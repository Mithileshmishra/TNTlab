{
 "cells": [
  {
   "cell_type": "code",
   "execution_count": 3,
   "metadata": {},
   "outputs": [
    {
     "name": "stdout",
     "output_type": "stream",
     "text": [
      "The distance between two points is:  6.324555320336759\n"
     ]
    }
   ],
   "source": [
    "# Write a program to find distance between two points having A and B has two coordinates each. \n",
    "\n",
    "a = int(input(\"Enter the value of x1: \"))\n",
    "b = int(input(\"Enter the value of y1: \"))\n",
    "c = int(input(\"Enter the value of x2: \"))\n",
    "d = int(input(\"Enter the value of y2: \"))\n",
    "result = ((c-a)**2 + (d-b)**2)**0.5\n",
    "print(\"The distance between two points is: \", result)"
   ]
  },
  {
   "cell_type": "code",
   "execution_count": 4,
   "metadata": {},
   "outputs": [
    {
     "name": "stdout",
     "output_type": "stream",
     "text": [
      "The area is 48\n"
     ]
    }
   ],
   "source": [
    "# Find the area of the rectangle having points at <0,0>, <0,6>, <8.0>, <8,6>. by finding the distance between the points.\n",
    "\n",
    "x1 = 0\n",
    "y1 = 0\n",
    "\n",
    "x2 = 0\n",
    "y2 = 6\n",
    "\n",
    "x3 = 8\n",
    "y3 = 0\n",
    "\n",
    "x4 = 8\n",
    "y4 = 6\n",
    "\n",
    "area1 = (y2 - y1) * (x3 - x1)\n",
    "print(\"The area is\", area1)"
   ]
  },
  {
   "cell_type": "code",
   "execution_count": null,
   "metadata": {},
   "outputs": [],
   "source": [
    "# Suppose an amount of 15 lakhs has been taken as a loan for House Building purpose. Find the Monthly installment if the loan has to be repaid in 120 months if the rate of interest is 5.6% which is compounded annually .\n",
    "def monthly_installment(loan, rate, months):\n",
    "    return loan * (rate / (1 - (1 + rate) ** -months))\n",
    "\n",
    "print(monthly_installment(1500000, 0.056, 120))\n"
   ]
  },
  {
   "cell_type": "code",
   "execution_count": 7,
   "metadata": {},
   "outputs": [
    {
     "name": "stdout",
     "output_type": "stream",
     "text": [
      "The length of the square is:  32.526911934581186\n"
     ]
    }
   ],
   "source": [
    "# Find the length of the square with maximum are that can be inscribed with a circle of radius 23 cm,\n",
    "rad=23\n",
    "side=(2**0.5)*(rad)\n",
    "print   (\"The length of the square is: \",side)\n",
    "    "
   ]
  }
 ],
 "metadata": {
  "interpreter": {
   "hash": "31f2aee4e71d21fbe5cf8b01ff0e069b9275f58929596ceb00d14d90e3e16cd6"
  },
  "kernelspec": {
   "display_name": "Python 3.8.9 64-bit",
   "name": "python3"
  },
  "language_info": {
   "codemirror_mode": {
    "name": "ipython",
    "version": 3
   },
   "file_extension": ".py",
   "mimetype": "text/x-python",
   "name": "python",
   "nbconvert_exporter": "python",
   "pygments_lexer": "ipython3",
   "version": "3.8.9"
  },
  "orig_nbformat": 4
 },
 "nbformat": 4,
 "nbformat_minor": 2
}
