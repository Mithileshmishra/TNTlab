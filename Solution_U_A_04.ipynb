{
  "cells": [
    {
      "cell_type": "markdown",
      "metadata": {
        "id": "zjgWQ2xUiwJk"
      },
      "source": [
        "## Q1. Take two sorted arrays as input, Write a program to merge them into a new array in such a way that the resultant array is sorted."
      ]
    },
    {
      "cell_type": "code",
      "execution_count": 2,
      "metadata": {
        "colab": {
          "base_uri": "https://localhost:8080/"
        },
        "id": "rWdlGnwaisYx",
        "outputId": "a33cd0eb-5d54-4e33-8b99-46e5e9a0d1c6"
      },
      "outputs": [
        {
          "name": "stdout",
          "output_type": "stream",
          "text": [
            "\n",
            "The merged and sorted array is: [1, 2, 3, 3, 4, 5, 7, 8, 9]\n"
          ]
        }
      ],
      "source": [
        "arr1=[]\n",
        "arr2=[]\n",
        "\n",
        "arr1=[int(item) for item in input(\"Enter the elements of 1st array: \").split() ]\n",
        "arr2=[int(item) for item in input(\"Enter the elements of 2nd array: \").split() ]\n",
        "\n",
        "res=[]\n",
        "res=arr1 + arr2\n",
        "\n",
        "for i in range(0, len(res)):    \n",
        "    for j in range(i+1, len(res)):    \n",
        "        if(res[i] > res[j]):    \n",
        "            temp = res[i];    \n",
        "            res[i] = res[j];    \n",
        "            res[j] = temp;  \n",
        "print(\"\\nThe merged and sorted array is:\",res)"
      ]
    },
    {
      "cell_type": "markdown",
      "metadata": {
        "id": "hHE95FjnkE2G"
      },
      "source": [
        "## Q2. Take a sorted array, and an integer. Write a program to add the integer to the array in such a way that the resultant array remains sorted as the original one. You can not use any other array."
      ]
    },
    {
      "cell_type": "code",
      "execution_count": 7,
      "metadata": {
        "colab": {
          "base_uri": "https://localhost:8080/"
        },
        "id": "ANbeoV9ej4l7",
        "outputId": "7ffa6ed9-3464-45e5-a75e-fdee93555ce3"
      },
      "outputs": [
        {
          "name": "stdout",
          "output_type": "stream",
          "text": [
            "The new sorted array=  [1, 2, 3, 4, 5]\n"
          ]
        }
      ],
      "source": [
        "arr=[]\n",
        "arr=[int(item) for item in input(\"Enter the sorted array: \").split()]\n",
        "\n",
        "x=int(input(\"Enter the integer= \"))\n",
        "\n",
        "j=0\n",
        "\n",
        "for i in arr:\n",
        "  if(x<i):\n",
        "    arr.insert(j,x)\n",
        "    break\n",
        "  j=j+1\n",
        "\n",
        "print(\"The new sorted array= \",arr)"
      ]
    },
    {
      "cell_type": "markdown",
      "metadata": {
        "id": "2fjfye_hksWP"
      },
      "source": [
        "## Q3. Take any random array of 15 elements. Select one element from the array. Arrange the array in such a way that, the one half of the array is less than the selected element, other half is greater or equal to the selected element."
      ]
    },
    {
      "cell_type": "code",
      "execution_count": null,
      "metadata": {
        "colab": {
          "base_uri": "https://localhost:8080/"
        },
        "id": "YgEItIBJkwVS",
        "outputId": "ed627411-f25b-4c79-c21b-a77b672c8c63"
      },
      "outputs": [
        {
          "name": "stdout",
          "output_type": "stream",
          "text": [
            "The Generated random array of 15 elements is :\n",
            "\n",
            "[16, 34, 18, 31, 57, 37, 66, 46, 84, 33, 85, 36, 66, 74, 77]\n",
            "\n",
            "The selected element from the array is:  66\n",
            "\n",
            "The rearranged array is: [16, 34, 18, 31, 57, 37, 46, 33, 36, 66, 84, 85, 74, 77]\n"
          ]
        }
      ],
      "source": [
        "import random\n",
        "arr=[]\n",
        "for i in range(0,15):\n",
        "  arr.append(random.randint(10,100))\n",
        "print(\"The Generated random array of 15 elements is :\\n\")\n",
        "print(arr)\n",
        "x = random.choice(arr)\n",
        "print(\"\\nThe selected element from the array is: \",x)\n",
        "left_arr=[]\n",
        "right_arr=[]\n",
        "right_arr.append(x)\n",
        "\n",
        "for i in range(0,len(arr)):\n",
        "  if arr[i]<x:\n",
        "    left_arr.append(arr[i])\n",
        "  if arr[i]>x:\n",
        "    right_arr.append(arr[i])\n",
        "#print(left_arr)\n",
        "#print(right_arr)\n",
        "print(\"\\nThe rearranged array is:\",left_arr+right_arr)"
      ]
    },
    {
      "cell_type": "markdown",
      "metadata": {
        "id": "Whk4yXZ5La6Z"
      },
      "source": [
        "## Q4. Do the Q3 in Single pass i.e O(n)."
      ]
    },
    {
      "cell_type": "code",
      "execution_count": 1,
      "metadata": {
        "colab": {
          "base_uri": "https://localhost:8080/"
        },
        "id": "B5Nyn-PqLdrv",
        "outputId": "d035e3df-2a64-40f6-b2b5-3cdc8ca95161"
      },
      "outputs": [
        {
          "name": "stdout",
          "output_type": "stream",
          "text": [
            "The Generated random array of 15 elements is :\n",
            "\n",
            "[96, 42, 76, 39, 41, 72, 89, 21, 11, 61, 99, 85, 19, 26, 91]\n",
            "\n",
            "The selected element from the array is:  89\n",
            "\n",
            "The rearranged array is: [11, 19, 21, 26, 39, 41, 42, 61, 72, 76, 85, 89, 91, 96, 99]\n"
          ]
        }
      ],
      "source": [
        "import random\n",
        "arr=[]\n",
        "for i in range(0,15):\n",
        "  arr.append(random.randint(10,100))\n",
        "print(\"The Generated random array of 15 elements is :\\n\")\n",
        "print(arr)\n",
        "x = random.choice(arr)\n",
        "print(\"\\nThe selected element from the array is: \",x)\n",
        "arr.sort()\n",
        "\n",
        "print(\"\\nThe rearranged array is:\",arr)\n"
      ]
    },
    {
      "cell_type": "markdown",
      "metadata": {
        "id": "EskkMiSBMJon"
      },
      "source": [
        "## Q5. Calculate number of comparisons between elements made and swapping of elements made in above programs."
      ]
    },
    {
      "cell_type": "code",
      "execution_count": null,
      "metadata": {
        "colab": {
          "base_uri": "https://localhost:8080/"
        },
        "id": "DmtT7mhNMJ-S",
        "outputId": "cd2f97cc-ac02-43ba-f8b5-7f742e439bb0"
      },
      "outputs": [
        {
          "name": "stdout",
          "output_type": "stream",
          "text": [
            "The Generated random array of 15 elements is :\n",
            "\n",
            "[42, 47, 15, 54, 37, 72, 79, 35, 72, 52, 28, 89, 74, 22, 75]\n",
            "\n",
            "The selected element from the array is:  72\n",
            "\n",
            "The rearranged array is: [42, 47, 15, 54, 37, 35, 52, 28, 22, 72, 79, 89, 74, 75]\n",
            "\n",
            "Number of comparisons and Swaps made: 13\n"
          ]
        }
      ],
      "source": [
        "import random\n",
        "arr=[]\n",
        "for i in range(0,15):\n",
        "  arr.append(random.randint(10,100))\n",
        "print(\"The Generated random array of 15 elements is :\\n\")\n",
        "print(arr)\n",
        "x = random.choice(arr)\n",
        "print(\"\\nThe selected element from the array is: \",x)\n",
        "left_arr=[]\n",
        "right_arr=[]\n",
        "right_arr.append(x)\n",
        "count=0\n",
        "for i in range(0,len(arr)):\n",
        "  if arr[i]<x:\n",
        "    left_arr.append(arr[i])\n",
        "    count+=1\n",
        "  if arr[i]>x:\n",
        "    right_arr.append(arr[i])\n",
        "    count+=1\n",
        "#print(left_arr)\n",
        "#print(right_arr)\n",
        "print(\"\\nThe rearranged array is:\",left_arr+right_arr)\n",
        "print(\"\\nNumber of comparisons and Swaps made:\",count)"
      ]
    }
  ],
  "metadata": {
    "colab": {
      "collapsed_sections": [],
      "name": "Solution_U_A_04.ipynb",
      "provenance": []
    },
    "interpreter": {
      "hash": "31f2aee4e71d21fbe5cf8b01ff0e069b9275f58929596ceb00d14d90e3e16cd6"
    },
    "kernelspec": {
      "display_name": "Python 3.8.9 64-bit",
      "name": "python3"
    },
    "language_info": {
      "codemirror_mode": {
        "name": "ipython",
        "version": 3
      },
      "file_extension": ".py",
      "mimetype": "text/x-python",
      "name": "python",
      "nbconvert_exporter": "python",
      "pygments_lexer": "ipython3",
      "version": "3.8.9"
    }
  },
  "nbformat": 4,
  "nbformat_minor": 0
}
