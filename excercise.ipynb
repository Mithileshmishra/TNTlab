{
  "cells": [
    {
      "cell_type": "markdown",
      "metadata": {
        "id": "VH23gp3z-OZy"
      },
      "source": [
        "Q1. Take two sorted arrays as input, Write a program to merge them into a new array in such a way that the resultant array is sorted."
      ]
    },
    {
      "cell_type": "code",
      "execution_count": 5,
      "metadata": {
        "id": "3Ioi72HD-OZ2",
        "outputId": "81bca2e3-d071-4ac6-be6e-1c4a5cf255ee"
      },
      "outputs": [
        {
          "name": "stdout",
          "output_type": "stream",
          "text": [
            "The first array is:  [1, 2]\n",
            "The second array is:  [4, 5]\n",
            "The merged array is: \n",
            "1 2 4 5 "
          ]
        }
      ],
      "source": [
        "def mergeArrays(ar1, ar2, a1, a2):\n",
        "    ar3 = [0] * (a1 + a2)\n",
        "\n",
        "    i = 0\n",
        "    j = 0\n",
        "    k = 0\n",
        " \n",
        "    while i < a1 and j < a2:\n",
        "        if ar1[i] < ar2[j]:\n",
        "            ar3[k] = ar1[i]\n",
        "            k = k + 1\n",
        "            i = i + 1\n",
        "        else:\n",
        "            ar3[k] = ar2[j]\n",
        "            k = k + 1\n",
        "            j = j + 1\n",
        " \n",
        "    while i < a1:\n",
        "        ar3[k] = ar1[i]\n",
        "        k = k + 1\n",
        "        i = i + 1\n",
        " \n",
        "    while j < a2:\n",
        "        ar3[k] = ar2[j]\n",
        "        k = k + 1\n",
        "        j = j + 1\n",
        "\n",
        "    for i in range (len(ar3)):\n",
        "        print(ar3[i], end = \" \")\n",
        "\n",
        "\n",
        "    \n",
        "a1 = int(input(\"Enter the length of the first array: \"))\n",
        "ar1 = []\n",
        "for i in range(a1):\n",
        "    ar1.append(int(input(\"Enter the element: \")))\n",
        "\n",
        "a2 = int(input(\"Enter the length of the second array: \"))\n",
        "ar2 = []\n",
        "for i in range(a2):\n",
        "    ar2.append(int(input(\"Enter the element: \")))\n",
        "\n",
        "print(\"The first array is: \", ar1)\n",
        "print(\"The second array is: \", ar2)\n",
        "print (\"The merged array is: \")\n",
        "mergeArrays(ar1, ar2, a1, a2)"
      ]
    },
    {
      "cell_type": "markdown",
      "metadata": {
        "id": "tkiiH8is-OZ5"
      },
      "source": [
        "Q2. Take a sorted array, and an integer. Write a program to add the integer to the array in such a way that the resultant array remains sorted as the original one. You can not use any other array."
      ]
    },
    {
      "cell_type": "code",
      "execution_count": null,
      "metadata": {
        "id": "RjYPsViD-OZ6",
        "outputId": "2e60c58c-794a-4dce-a332-e720a3b5a899"
      },
      "outputs": [
        {
          "name": "stdout",
          "output_type": "stream",
          "text": [
            "[1, 2, 3, 4, 5, 5, 6, 7, 8, 9, 10]\n"
          ]
        }
      ],
      "source": [
        "def add_to_sorted_array(arr, n):\n",
        "    if len(arr) == 0:\n",
        "        return [n]\n",
        "    if n <= arr[0]:\n",
        "        return [n] + arr\n",
        "    if n > arr[-1]:\n",
        "        return arr + [n]\n",
        "    for i in range(len(arr)):\n",
        "        if n <= arr[i]:\n",
        "            return arr[:i] + [n] + arr[i:]\n",
        "\n",
        "arr1 = [1, 2, 3, 4, 5, 6, 7, 8, 9, 10]\n",
        "\n",
        "print(add_to_sorted_array(arr1, 5))"
      ]
    },
    {
      "cell_type": "markdown",
      "metadata": {
        "id": "v3oQpV5B-OZ7"
      },
      "source": [
        "Q3. Take any random array of 15 elements. Select one element from the array. Arrange the array in such a way that, the one half of the array is less than the selected element, other half is greater or equal to the selected element."
      ]
    },
    {
      "cell_type": "code",
      "execution_count": null,
      "metadata": {
        "id": "ZXLaR5UW-OZ7",
        "outputId": "0d5c4848-33cb-47f1-ecc5-9fab8168de63"
      },
      "outputs": [
        {
          "name": "stdout",
          "output_type": "stream",
          "text": [
            "[11, 13, 13, 15, 30, 35, 47, 48, 49, 51, 56, 62, 64, 74, 92]\n"
          ]
        }
      ],
      "source": [
        "arr = [11, 92, 13, 74, 15, 56, 47, 48, 49, 30, 51, 62, 13, 64, 35]\n",
        "\n",
        "n=input(\"Select an element from the array: \")\n",
        "\n",
        "for i in range(len(arr)):\n",
        "  for j in range(i+1,len(arr)):\n",
        "    if arr[i]>arr[j]:\n",
        "      arr[i],arr[j]=arr[j],arr[i]\n",
        "print(arr)\n",
        "\n"
      ]
    },
    {
      "cell_type": "markdown",
      "metadata": {
        "id": "onYIECE3-OZ8"
      },
      "source": [
        "Q4. Question no. 3 in single pass"
      ]
    },
    {
      "cell_type": "code",
      "execution_count": null,
      "metadata": {
        "id": "EgmSD_DT-OZ9",
        "outputId": "7c6ea14b-bb0a-4325-b862-73a29cf17d79"
      },
      "outputs": [
        {
          "name": "stdout",
          "output_type": "stream",
          "text": [
            "Sorted array is:\n",
            "5\n",
            "6\n",
            "11\n",
            "12\n",
            "13\n"
          ]
        }
      ],
      "source": [
        "ar = [12, 11, 13, 5, 6]\n",
        "\n",
        "for i in range(1, len(ar)):\n",
        "\tkey = ar[i]\n",
        "\tj = i-1\n",
        "\twhile j >=0 and key < ar[j] :\n",
        "\t\tar[j+1] = ar[j]\n",
        "\t\tj -= 1\n",
        "\tar[j+1] = key\n",
        "\n",
        "print (\"Sorted array is:\")\n",
        "\n",
        "for i in range(len(ar)):\n",
        "\tprint (\"%d\" %ar[i])\n"
      ]
    },
    {
      "cell_type": "markdown",
      "metadata": {
        "id": "U8FLtkL2-OZ9"
      },
      "source": [
        "Q5. Calculate number of comparisons between elements made and swapping of elements made in above program."
      ]
    },
    {
      "cell_type": "code",
      "execution_count": null,
      "metadata": {
        "id": "6fzyEczu-OZ-",
        "outputId": "0f7ddf71-b0d1-40bd-e00f-029ab09bacd0"
      },
      "outputs": [
        {
          "name": "stdout",
          "output_type": "stream",
          "text": [
            "The number of comparasions made is:  7\n",
            "The number of swaps made is:  4\n",
            "Sorted array is:\n",
            "5\n",
            "6\n",
            "11\n",
            "12\n",
            "13\n"
          ]
        }
      ],
      "source": [
        "ar = [12, 11, 13, 5, 6]\n",
        "comp = 0\n",
        "swap = 0\n",
        "for i in range(1, len(ar)):\n",
        "\tkey = ar[i]\n",
        "\tj = i-1\n",
        "\twhile j >=0 and key < ar[j] :\n",
        "\t\tcomp+=1\n",
        "\t\tarr[j+1] = ar[j]\n",
        "\t\tj -= 1\n",
        "\tar[j+1] = key\n",
        "\tswap+=1\n",
        "\n",
        "print(\"The number of comparasions made is: \",comp)\n",
        "print(\"The number of swaps made is: \",swap)\n",
        "\n",
        "print (\"Sorted array is:\")\n",
        "\n",
        "for i in range(len(ar)):\n",
        "\tprint (\"%d\" %ar[i])"
      ]
    }
  ],
  "metadata": {
    "colab": {
      "name": "excercise.ipynb",
      "provenance": []
    },
    "interpreter": {
      "hash": "31f2aee4e71d21fbe5cf8b01ff0e069b9275f58929596ceb00d14d90e3e16cd6"
    },
    "kernelspec": {
      "display_name": "Python 3.8.9 64-bit",
      "name": "python3"
    },
    "language_info": {
      "codemirror_mode": {
        "name": "ipython",
        "version": 3
      },
      "file_extension": ".py",
      "mimetype": "text/x-python",
      "name": "python",
      "nbconvert_exporter": "python",
      "pygments_lexer": "ipython3",
      "version": "3.8.9"
    },
    "orig_nbformat": 4
  },
  "nbformat": 4,
  "nbformat_minor": 0
}
