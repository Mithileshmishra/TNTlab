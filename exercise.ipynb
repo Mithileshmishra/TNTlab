{
 "cells": [
  {
   "cell_type": "code",
   "execution_count": 1,
   "metadata": {},
   "outputs": [
    {
     "name": "stdout",
     "output_type": "stream",
     "text": [
      "2000 is a leap year\n"
     ]
    }
   ],
   "source": [
    "year = int(input(\"Enter the year: \"))\n",
    "if (year % 4) == 0:\n",
    "    if (year % 100) == 0:\n",
    "         if (year % 400) == 0:\n",
    "              print(\"{0} is a leap year\".format(year))\n",
    "         else:\n",
    "              print(\"{0} is not a leap year\".format(year))\n",
    "    else:\n",
    "         print(\"{0} is a leap year\".format(year))\n",
    "else:\n",
    "     print(\"{0} is not a leap year\".format(year))"
   ]
  },
  {
   "cell_type": "code",
   "execution_count": 4,
   "metadata": {},
   "outputs": [
    {
     "name": "stdout",
     "output_type": "stream",
     "text": [
      "Name is:  ramesh\n",
      "salary is:  14361.6\n"
     ]
    }
   ],
   "source": [
    "### A Company give the following increment skim.\n",
    "### If year of service is less than 5 year Bonus given is 5%,  year of service is  in between 5 to 10year 10% Bonus is given,  year of service is  more than 10 17% bonus is given.\n",
    "### D.A is allotted every one to 11% \n",
    "### Performance Allowance is : for Rating A 15%, Rating B 8 % , Rating C 4%\n",
    "### Calculate the salary of the following Employee:\n",
    "n=int(input(\"enter the number of employees\"))\n",
    "\n",
    "for i in range(n):\n",
    "    print(\"Employee\",i+1)\n",
    "    name=input((\"Enter the name\"))\n",
    "    year_of_service=int(input(\"Enter the year of service\"))\n",
    "    rating=input((\"Enter the rating\"))\n",
    "    basic_salary=int(input(\"Enter the basic salary\"))\n",
    "    if year_of_service<5:\n",
    "        bonus=basic_salary*5/100\n",
    "        da=basic_salary*11/100\n",
    "        performance_allowance=0\n",
    "    elif year_of_service>=5 and year_of_service<=10:\n",
    "        bonus=basic_salary*10/100\n",
    "        da=basic_salary*11/100\n",
    "        performance_allowance=0\n",
    "    else:\n",
    "        bonus=basic_salary*17/100\n",
    "        da=basic_salary*11/100\n",
    "        if rating=='A':\n",
    "            performance_allowance=basic_salary*15/100\n",
    "        elif rating=='B':\n",
    "            performance_allowance=basic_salary*8/100\n",
    "        else:\n",
    "            performance_allowance=basic_salary*4/100\n",
    "    print(\"Name:\",name)\n",
    "    print(\"Net Salary\",bonus+da+performance_allowance+basic_salary)\n",
    "    print(\"\\n\")"
   ]
  },
  {
   "cell_type": "code",
   "execution_count": null,
   "metadata": {},
   "outputs": [],
   "source": [
    "# program to check whether a triangle is possible or not\n",
    "\n",
    "a = int(input(\"Enter the length of side a: \"))\n",
    "b = int(input(\"Enter the length of side b: \"))\n",
    "c = int(input(\"Enter the length of side c: \"))\n",
    "\n",
    "if a + b > c and a + c > b and b + c > a:\n",
    "    print(\"The triangle is possible\")\n",
    "else:\n",
    "    print(\"The triangle is not possible\")"
   ]
  },
  {
   "cell_type": "code",
   "execution_count": 38,
   "metadata": {},
   "outputs": [
    {
     "name": "stdout",
     "output_type": "stream",
     "text": [
      "The traingle is acute angle\n"
     ]
    }
   ],
   "source": [
    "# Enter three sides of triangle as user input . Find out which one is Right Angle, Acute or Obtuse .\n",
    "\n",
    "a = int(input(\"Enter the length of side a:\"))\n",
    "b = int(input(\"Enter the length of side b:\"))\n",
    "c = int(input(\"Enter the length of side c:\"))\n",
    "if c**2 == (a**2 + b**2):\n",
    " print(\"The triangle is right angle\")\n",
    "elif c**2 < (a**2 + b**2):\n",
    " print(\"The traingle is acute angle\")\n",
    "else: \n",
    "   print(\"The traingle is obtuse angle\")"
   ]
  },
  {
   "cell_type": "code",
   "execution_count": 39,
   "metadata": {},
   "outputs": [
    {
     "name": "stdout",
     "output_type": "stream",
     "text": [
      "The sum of all even numbers between X and Y is:  2\n"
     ]
    }
   ],
   "source": [
    "#  Print the sum of the of all even numbers between X and Y. X & Y are two integer given by user\n",
    "\n",
    "X = int(input(\"Enter the value of X: \"))\n",
    "Y = int(input(\"Enter the value of Y: \"))\n",
    "\n",
    "sum=0\n",
    "for i in range(X,Y+1):\n",
    "    if i%2==0:\n",
    "        sum = sum + i\n",
    "print(\"The sum of all even numbers between X and Y is: \",sum)"
   ]
  },
  {
   "cell_type": "code",
   "execution_count": null,
   "metadata": {},
   "outputs": [],
   "source": [
    "#  Print all the leap year from the year 1001 till 2021\n",
    "\n",
    "for year in range(1001,2021):\n",
    "    if (year % 4) == 0:\n",
    "        if (year % 100) == 0:\n",
    "             if (year % 400) == 0:\n",
    "                  print(year)\n",
    "             else:\n",
    "                  print(year)\n",
    "        else:\n",
    "             print(year)\n",
    "else:\n",
    "        print(year)"
   ]
  }
 ],
 "metadata": {
  "interpreter": {
   "hash": "31f2aee4e71d21fbe5cf8b01ff0e069b9275f58929596ceb00d14d90e3e16cd6"
  },
  "kernelspec": {
   "display_name": "Python 3.8.9 64-bit",
   "name": "python3"
  },
  "language_info": {
   "codemirror_mode": {
    "name": "ipython",
    "version": 3
   },
   "file_extension": ".py",
   "mimetype": "text/x-python",
   "name": "python",
   "nbconvert_exporter": "python",
   "pygments_lexer": "ipython3",
   "version": "3.8.9"
  },
  "orig_nbformat": 4
 },
 "nbformat": 4,
 "nbformat_minor": 2
}
