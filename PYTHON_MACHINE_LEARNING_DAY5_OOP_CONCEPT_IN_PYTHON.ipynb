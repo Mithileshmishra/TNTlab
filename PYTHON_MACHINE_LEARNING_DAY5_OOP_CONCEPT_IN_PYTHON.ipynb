{
  "nbformat": 4,
  "nbformat_minor": 0,
  "metadata": {
    "kernelspec": {
      "display_name": "Python 3",
      "language": "python",
      "name": "python3"
    },
    "language_info": {
      "codemirror_mode": {
        "name": "ipython",
        "version": 3
      },
      "file_extension": ".py",
      "mimetype": "text/x-python",
      "name": "python",
      "nbconvert_exporter": "python",
      "pygments_lexer": "ipython3",
      "version": "3.7.0"
    },
    "colab": {
      "name": "PYTHON_MACHINE_LEARNING_DAY5_OOP_CONCEPT_IN_PYTHON.ipynb",
      "provenance": []
    }
  },
  "cells": [
    {
      "cell_type": "markdown",
      "metadata": {
        "id": "UAs6M4d7ARw1"
      },
      "source": [
        "# NAMESPACE AND SCOPE"
      ]
    },
    {
      "cell_type": "code",
      "metadata": {
        "id": "VYHlLHP9ARw_"
      },
      "source": [
        "def scope_test():\n",
        "    def do_local():\n",
        "        spam = \"do local spam\"\n",
        "\n",
        "    def do_nonlocal():\n",
        "        nonlocal spam\n",
        "        spam = \"nonlocal spam\"\n",
        "\n",
        "    def do_global():\n",
        "        global spam\n",
        "        spam = \"global spam\"\n",
        "\n",
        "    spam = \"call spam\"\n",
        "    do_local()\n",
        "    print(\"After local assignment:\", spam)\n",
        "    do_nonlocal()\n",
        "    print(\"After nonlocal assignment:\", spam)\n",
        "    do_global()\n",
        "    print(\"After global assignment:\", spam)"
      ],
      "execution_count": null,
      "outputs": []
    },
    {
      "cell_type": "code",
      "metadata": {
        "id": "FFYqeYcJARxL",
        "colab": {
          "base_uri": "https://localhost:8080/",
          "height": 86
        },
        "outputId": "831aeb81-6609-43cc-aefb-d009c25183df"
      },
      "source": [
        "scope_test()\n",
        "print(\"In global scope:\", spam)"
      ],
      "execution_count": null,
      "outputs": [
        {
          "output_type": "stream",
          "text": [
            "After local assignment: call spam\n",
            "After nonlocal assignment: nonlocal spam\n",
            "After global assignment: nonlocal spam\n",
            "In global scope: global spam\n"
          ],
          "name": "stdout"
        }
      ]
    },
    {
      "cell_type": "code",
      "metadata": {
        "id": "61iLdlcPARxT",
        "colab": {
          "base_uri": "https://localhost:8080/"
        },
        "outputId": "8879fdcf-f1ee-4a66-e043-3b7160d9c67d"
      },
      "source": [
        "class MyClass:\n",
        "    i = 12345\n",
        "    def f(self):\n",
        "        return \"Hello World\"\n",
        "    \n",
        "    \n",
        "x = MyClass()\n",
        "print(type(x))\n",
        "\n",
        "print(x.i)\n",
        "print(x.f())\n",
        "#rint(x.__dict__)\n",
        "dir(x)"
      ],
      "execution_count": null,
      "outputs": [
        {
          "output_type": "stream",
          "name": "stdout",
          "text": [
            "<class '__main__.MyClass'>\n",
            "12345\n",
            "Hello World\n"
          ]
        },
        {
          "output_type": "execute_result",
          "data": {
            "text/plain": [
              "['__class__',\n",
              " '__delattr__',\n",
              " '__dict__',\n",
              " '__dir__',\n",
              " '__doc__',\n",
              " '__eq__',\n",
              " '__format__',\n",
              " '__ge__',\n",
              " '__getattribute__',\n",
              " '__gt__',\n",
              " '__hash__',\n",
              " '__init__',\n",
              " '__init_subclass__',\n",
              " '__le__',\n",
              " '__lt__',\n",
              " '__module__',\n",
              " '__ne__',\n",
              " '__new__',\n",
              " '__reduce__',\n",
              " '__reduce_ex__',\n",
              " '__repr__',\n",
              " '__setattr__',\n",
              " '__sizeof__',\n",
              " '__str__',\n",
              " '__subclasshook__',\n",
              " '__weakref__',\n",
              " 'f',\n",
              " 'i']"
            ]
          },
          "metadata": {},
          "execution_count": 1
        }
      ]
    },
    {
      "cell_type": "code",
      "metadata": {
        "colab": {
          "base_uri": "https://localhost:8080/"
        },
        "id": "lC6GEe83L4Vk",
        "outputId": "e7da5296-0b66-487a-8656-51355eb09716"
      },
      "source": [
        "class ABC:\n",
        "  a = 2\n",
        "  b = 3\n",
        "  def c(self):\n",
        "    return self.a+self.b\n",
        "\n",
        "  def __str__(self):\n",
        "    return str(self.a) +' '+ str(self.b)\n",
        "a1 = ABC()\n",
        "a1.c()\n",
        "print(a1)"
      ],
      "execution_count": null,
      "outputs": [
        {
          "output_type": "stream",
          "name": "stdout",
          "text": [
            "2 3\n"
          ]
        }
      ]
    },
    {
      "cell_type": "code",
      "metadata": {
        "id": "okxnJAXyARxe",
        "colab": {
          "base_uri": "https://localhost:8080/"
        },
        "outputId": "e777fedf-8e8c-4114-a8bf-2167c37da80b"
      },
      "source": [
        "a = 23\n",
        "print(dir(a))"
      ],
      "execution_count": null,
      "outputs": [
        {
          "output_type": "stream",
          "name": "stdout",
          "text": [
            "['__abs__', '__add__', '__and__', '__bool__', '__ceil__', '__class__', '__delattr__', '__dir__', '__divmod__', '__doc__', '__eq__', '__float__', '__floor__', '__floordiv__', '__format__', '__ge__', '__getattribute__', '__getnewargs__', '__gt__', '__hash__', '__index__', '__init__', '__init_subclass__', '__int__', '__invert__', '__le__', '__lshift__', '__lt__', '__mod__', '__mul__', '__ne__', '__neg__', '__new__', '__or__', '__pos__', '__pow__', '__radd__', '__rand__', '__rdivmod__', '__reduce__', '__reduce_ex__', '__repr__', '__rfloordiv__', '__rlshift__', '__rmod__', '__rmul__', '__ror__', '__round__', '__rpow__', '__rrshift__', '__rshift__', '__rsub__', '__rtruediv__', '__rxor__', '__setattr__', '__sizeof__', '__str__', '__sub__', '__subclasshook__', '__truediv__', '__trunc__', '__xor__', 'bit_length', 'conjugate', 'denominator', 'from_bytes', 'imag', 'numerator', 'real', 'to_bytes']\n"
          ]
        }
      ]
    },
    {
      "cell_type": "markdown",
      "metadata": {
        "id": "hPDtDytbARxp"
      },
      "source": [
        "# THE \"__init__()\" METHOD"
      ]
    },
    {
      "cell_type": "markdown",
      "metadata": {
        "id": "lYWCw6roARxv"
      },
      "source": [
        "When a class defines an __init__() method, class instantiation automatically \n",
        "\n",
        "1.   List item\n",
        "2.   List item\n",
        "\n",
        "invokes __init__() for the newly-created class instance"
      ]
    },
    {
      "cell_type": "code",
      "metadata": {
        "id": "VR0fiHOPARx0",
        "colab": {
          "base_uri": "https://localhost:8080/"
        },
        "outputId": "ca94ba14-4a05-4801-f20c-7fe1f76cf467"
      },
      "source": [
        "class Complex:\n",
        "     def __init__(self, realpart, imagpart):\n",
        "            print(\"The __init__ method is called\")\n",
        "            self.r = realpart\n",
        "            self.i = imagpart\n",
        "\n",
        "     def __str__(self):\n",
        "            return str(self.r) + ' + ' + str(self.i) + ' i'\n",
        "\n",
        "     def add(self, others):\n",
        "       temp = Complex(0,0)\n",
        "       temp.r = self.r + others.r\n",
        "       temp.i = self.i + others.i\n",
        "       return temp\n",
        "\n",
        "\n",
        "x = Complex(3.0, -4.5)\n",
        "y = Complex(4.0, 5.5)\n",
        "z = x.add(y)\n",
        "print(z)\n",
        "print(\"The Real and the Imaginary Part of X : \", x.r,x.i)\n",
        "print(x.__dict__['r'])\n",
        "print(x)\n",
        "dir(x)"
      ],
      "execution_count": null,
      "outputs": [
        {
          "output_type": "stream",
          "name": "stdout",
          "text": [
            "The __init__ method is called\n",
            "The __init__ method is called\n",
            "The __init__ method is called\n",
            "7.0 + 1.0 i\n",
            "The Real and the Imaginary Part of X :  3.0 -4.5\n",
            "3.0\n",
            "3.0 + -4.5 i\n"
          ]
        },
        {
          "output_type": "execute_result",
          "data": {
            "text/plain": [
              "['__class__',\n",
              " '__delattr__',\n",
              " '__dict__',\n",
              " '__dir__',\n",
              " '__doc__',\n",
              " '__eq__',\n",
              " '__format__',\n",
              " '__ge__',\n",
              " '__getattribute__',\n",
              " '__gt__',\n",
              " '__hash__',\n",
              " '__init__',\n",
              " '__init_subclass__',\n",
              " '__le__',\n",
              " '__lt__',\n",
              " '__module__',\n",
              " '__ne__',\n",
              " '__new__',\n",
              " '__reduce__',\n",
              " '__reduce_ex__',\n",
              " '__repr__',\n",
              " '__setattr__',\n",
              " '__sizeof__',\n",
              " '__str__',\n",
              " '__subclasshook__',\n",
              " '__weakref__',\n",
              " 'add',\n",
              " 'i',\n",
              " 'r']"
            ]
          },
          "metadata": {},
          "execution_count": 3
        }
      ]
    },
    {
      "cell_type": "markdown",
      "metadata": {
        "id": "8UvVSJozD1HK"
      },
      "source": [
        "**__str__ Method**"
      ]
    },
    {
      "cell_type": "code",
      "metadata": {
        "colab": {
          "base_uri": "https://localhost:8080/"
        },
        "id": "523xNAb6DzZz",
        "outputId": "f7d5c9c3-27b7-4fc6-e2f4-3efc0920ecfa"
      },
      "source": [
        "print(x)"
      ],
      "execution_count": null,
      "outputs": [
        {
          "output_type": "stream",
          "text": [
            "3.0 + -4.5 i\n"
          ],
          "name": "stdout"
        }
      ]
    },
    {
      "cell_type": "code",
      "metadata": {
        "colab": {
          "base_uri": "https://localhost:8080/"
        },
        "id": "YcP3ylKaEQ60",
        "outputId": "8da171ba-01fa-4eb4-8469-192a93ae9869"
      },
      "source": [
        "print(x.__str__())"
      ],
      "execution_count": null,
      "outputs": [
        {
          "output_type": "stream",
          "text": [
            "3.0 + -4.5 i\n"
          ],
          "name": "stdout"
        }
      ]
    },
    {
      "cell_type": "markdown",
      "metadata": {
        "id": "MeKPK6C9ARyF"
      },
      "source": [
        "# METHODS"
      ]
    },
    {
      "cell_type": "code",
      "metadata": {
        "id": "OtVmb_YXARyJ",
        "colab": {
          "base_uri": "https://localhost:8080/"
        },
        "outputId": "07fadb9f-f130-4e25-dfd3-7be54e85d899"
      },
      "source": [
        "class Classy:\n",
        "    def method(self):\n",
        "        print(\"method\")\n",
        "obj = Classy()\n",
        "obj.method()"
      ],
      "execution_count": null,
      "outputs": [
        {
          "output_type": "stream",
          "text": [
            "method\n"
          ],
          "name": "stdout"
        }
      ]
    },
    {
      "cell_type": "code",
      "metadata": {
        "id": "ikOaKYjYARyT",
        "colab": {
          "base_uri": "https://localhost:8080/"
        },
        "outputId": "190d3f26-a229-41b0-ce2f-b5650a091c91"
      },
      "source": [
        "class studentSkill:\n",
        "    def __init__(self,name,s):\n",
        "        self.name = name\n",
        "        self.skillSet = s\n",
        "    def __str__(self):\n",
        "        return \"The name is \" + self.name + 'Having skills ' + str(self.skillSet)\n",
        "    def addSkill(self,skill):\n",
        "        self.skillSet.append(skill)\n",
        "\n",
        "s = studentSkill('Rahul', ['C'])\n",
        "print(type(s.skillSet))\n",
        "print(s)\n",
        "s.addSkill('C++')\n",
        "print(s)"
      ],
      "execution_count": null,
      "outputs": [
        {
          "output_type": "stream",
          "text": [
            "<class 'list'>\n",
            "The name is RahulHaving skills ['C']\n",
            "The name is RahulHaving skills ['C', 'C++']\n"
          ],
          "name": "stdout"
        }
      ]
    },
    {
      "cell_type": "markdown",
      "metadata": {
        "id": "CWGGi4XEARyZ"
      },
      "source": [
        "# CLASS AND INSTANCE VARIABLE"
      ]
    },
    {
      "cell_type": "code",
      "metadata": {
        "colab": {
          "base_uri": "https://localhost:8080/"
        },
        "id": "kVi_BIyYKTrY",
        "outputId": "e6b4957a-5038-4372-f9cf-a4bcbbd00c78"
      },
      "source": [
        "class Test:\n",
        "  var_c = 12345 # Class Variable\n",
        "  counter = 0\n",
        "  def __init__(self, data1, data2): #Instance Variables\n",
        "    self.d1 = data1\n",
        "    self.d2 = data2\n",
        "    Test.counter += 1\n",
        "    \n",
        "print(id(Test.counter), id(Test.var_c), id(Test))\n",
        "  \n",
        "\n",
        "t1 = Test(1,2)\n",
        "print(t1.var_c, t1.counter)\n",
        "t2 = Test(2,3)\n",
        "print(t2.var_c, t2.counter)\n",
        "t3 = Test(4,5)\n",
        "print(t3.var_c, t3.counter)\n",
        "if id(t1.counter) == id(t2.counter) == id(t3.counter) == id(Test.counter):\n",
        "  print(\"All object got same access\")\n",
        "\n",
        "#To check no of object\n",
        "print(Test.counter)\n",
        "\n",
        "if (id(t1.d1) != id(t2.d1)):\n",
        "  print(\"Separate Memory Allocated to Object Instance\")"
      ],
      "execution_count": null,
      "outputs": [
        {
          "output_type": "stream",
          "name": "stdout",
          "text": [
            "93897898998240 139752370751024 93897950362656\n",
            "12345 1\n",
            "12345 2\n",
            "12345 3\n",
            "All object got same access\n",
            "3\n",
            "Separate Memory Allocated to Object Instance\n"
          ]
        }
      ]
    },
    {
      "cell_type": "code",
      "metadata": {
        "colab": {
          "base_uri": "https://localhost:8080/"
        },
        "id": "WZZ5CTzWHDY8",
        "outputId": "4be7e030-fec7-4f02-96c3-dce6b2cff281"
      },
      "source": [
        "class A:\n",
        "  def __init__(a,b):\n",
        "    self.a = a\n",
        "    self.b = b\n",
        "import sys\n",
        "print(id(A), sys.getsizeof(A))\n",
        "dir(A)"
      ],
      "execution_count": null,
      "outputs": [
        {
          "output_type": "stream",
          "name": "stdout",
          "text": [
            "93897951060000 1064\n"
          ]
        },
        {
          "output_type": "execute_result",
          "data": {
            "text/plain": [
              "['__class__',\n",
              " '__delattr__',\n",
              " '__dict__',\n",
              " '__dir__',\n",
              " '__doc__',\n",
              " '__eq__',\n",
              " '__format__',\n",
              " '__ge__',\n",
              " '__getattribute__',\n",
              " '__gt__',\n",
              " '__hash__',\n",
              " '__init__',\n",
              " '__init_subclass__',\n",
              " '__le__',\n",
              " '__lt__',\n",
              " '__module__',\n",
              " '__ne__',\n",
              " '__new__',\n",
              " '__reduce__',\n",
              " '__reduce_ex__',\n",
              " '__repr__',\n",
              " '__setattr__',\n",
              " '__sizeof__',\n",
              " '__str__',\n",
              " '__subclasshook__',\n",
              " '__weakref__']"
            ]
          },
          "metadata": {},
          "execution_count": 7
        }
      ]
    },
    {
      "cell_type": "code",
      "metadata": {
        "colab": {
          "base_uri": "https://localhost:8080/"
        },
        "id": "pOjbedIoT1SQ",
        "outputId": "5f2c2ef0-2e20-44a1-ab19-d3f0c8747f3d"
      },
      "source": [
        "# Create a Student class\n",
        "class Student :\n",
        "\n",
        "    # initialise class variable\n",
        "    counter = 0\n",
        "\n",
        "    # Constructor method\n",
        "    def __init__(self,name,age) :\n",
        "\n",
        "        # instance variable or object attributes\n",
        "        self.name = name\n",
        "        self.age = age\n",
        "\n",
        "        # incrementing the class variable by 1\n",
        "        # whenever new object is created\n",
        "        Student.counter += 1\n",
        "\n",
        "    # Create a method for printing details\n",
        "    def printDetails(self) :\n",
        "        print(self.name,self.age,\"years old\")\n",
        "\n",
        "    \n",
        "\n",
        "# Create an object of Student class with attributes\n",
        "student1 = Student('Ankit Rai',22)\n",
        "student2 = Student('Aishwarya',21)\n",
        "student3 = Student('Shaurya',21)\n",
        "\n",
        "# Print the total no. of objects cretaed \n",
        "print(\"Total number of objects created: \",Student.counter)"
      ],
      "execution_count": null,
      "outputs": [
        {
          "output_type": "stream",
          "text": [
            "Total number of objects created:  3\n"
          ],
          "name": "stdout"
        }
      ]
    },
    {
      "cell_type": "code",
      "metadata": {
        "id": "z1ng-8jGARyd",
        "colab": {
          "base_uri": "https://localhost:8080/",
          "height": 69
        },
        "outputId": "bdeca698-82b6-4143-c243-99861544f716"
      },
      "source": [
        "class Dog:\n",
        "    kind = 'canine'         # class variable shared by all instances\n",
        "    tricks = []\n",
        "    \n",
        "    def __init__(self, name):\n",
        "        self.name = name    # instance variable unique to each instance\n",
        "        \n",
        "    def __init__(self,name,tricks=[None]):\n",
        "        self.name = name\n",
        "        self.tricks.append(tricks)\n",
        "        \n",
        "    def __str__(self):\n",
        "        return \"Dog named \"+self.name+\"knows\"+ str(self.tricks)\n",
        "    \n",
        "        \n",
        "d = Dog('Fido','Dancing')\n",
        "e = Dog('Buddy','Singing')\n",
        "f = Dog('Budhia')\n",
        "\n",
        "print(d.name)\n",
        "print(e.name)\n",
        "print(f)"
      ],
      "execution_count": null,
      "outputs": [
        {
          "output_type": "stream",
          "text": [
            "Fido\n",
            "Buddy\n",
            "Dog named Budhiaknows['Dancing', 'Singing', [None]]\n"
          ],
          "name": "stdout"
        }
      ]
    },
    {
      "cell_type": "markdown",
      "metadata": {
        "collapsed": true,
        "id": "e6Amfg-cARyo"
      },
      "source": [
        "# CLASS DEFINITION"
      ]
    },
    {
      "cell_type": "code",
      "metadata": {
        "id": "4FbbKsfHARyv"
      },
      "source": [
        "from math import sqrt\n",
        "class Point:\n",
        "    def __init__(self,x=0,y=0):\n",
        "        self.x = x\n",
        "        self.y = y\n",
        "\n",
        "    \n",
        "    '''def __init__(self, x, y):\n",
        "        self.x = x\n",
        "        self.y = y'''\n",
        "        \n",
        "    def print_Point(self):\n",
        "        print(\"The Point is \"+ str(self.x) + \"&\" + str(self.y))\n",
        "   \n",
        "    def getX(self):\n",
        "        return self.x\n",
        "    def setX(self, val):\n",
        "        self.x = val\n",
        "        \n",
        "    def getY(self):\n",
        "        return self._y\n",
        "    def setY(self,val):\n",
        "        self._y = val\n",
        "        \n",
        "    def Dist(self, other):\n",
        "        dx = self.x - other.x\n",
        "        dy = self.y - other. y\n",
        "        dist = sqrt((dx ** 2) + (dy ** 2))\n",
        "        return dist\n",
        "    #def find_PointAtDist(self, dist,m):\n",
        "     #   self.x = dist ** 2 \n",
        "        \n",
        "        "
      ],
      "execution_count": null,
      "outputs": []
    },
    {
      "cell_type": "code",
      "metadata": {
        "id": "HsHD0KwZARy2",
        "colab": {
          "base_uri": "https://localhost:8080/",
          "height": 241
        },
        "outputId": "4fc48896-efd6-493d-db29-39afa4f44104"
      },
      "source": [
        "p = Point(10,10)\n",
        "q = Point(0,0)\n",
        "r = Point()\n",
        "print(p.Dist(q))\n",
        "\n",
        "print(p.__dict__)\n",
        "\n"
      ],
      "execution_count": null,
      "outputs": [
        {
          "output_type": "error",
          "ename": "TypeError",
          "evalue": "ignored",
          "traceback": [
            "\u001b[0;31m---------------------------------------------------------------------------\u001b[0m",
            "\u001b[0;31mTypeError\u001b[0m                                 Traceback (most recent call last)",
            "\u001b[0;32m<ipython-input-10-a7b5679c4376>\u001b[0m in \u001b[0;36m<module>\u001b[0;34m()\u001b[0m\n\u001b[1;32m      1\u001b[0m \u001b[0mp\u001b[0m \u001b[0;34m=\u001b[0m \u001b[0mPoint\u001b[0m\u001b[0;34m(\u001b[0m\u001b[0;36m10\u001b[0m\u001b[0;34m,\u001b[0m\u001b[0;36m10\u001b[0m\u001b[0;34m)\u001b[0m\u001b[0;34m\u001b[0m\u001b[0;34m\u001b[0m\u001b[0m\n\u001b[1;32m      2\u001b[0m \u001b[0mq\u001b[0m \u001b[0;34m=\u001b[0m \u001b[0mPoint\u001b[0m\u001b[0;34m(\u001b[0m\u001b[0;36m0\u001b[0m\u001b[0;34m,\u001b[0m\u001b[0;36m0\u001b[0m\u001b[0;34m)\u001b[0m\u001b[0;34m\u001b[0m\u001b[0;34m\u001b[0m\u001b[0m\n\u001b[0;32m----> 3\u001b[0;31m \u001b[0mr\u001b[0m \u001b[0;34m=\u001b[0m \u001b[0mPoint\u001b[0m\u001b[0;34m(\u001b[0m\u001b[0;34m)\u001b[0m\u001b[0;34m\u001b[0m\u001b[0;34m\u001b[0m\u001b[0m\n\u001b[0m\u001b[1;32m      4\u001b[0m \u001b[0mprint\u001b[0m\u001b[0;34m(\u001b[0m\u001b[0mp\u001b[0m\u001b[0;34m.\u001b[0m\u001b[0mDist\u001b[0m\u001b[0;34m(\u001b[0m\u001b[0mq\u001b[0m\u001b[0;34m)\u001b[0m\u001b[0;34m)\u001b[0m\u001b[0;34m\u001b[0m\u001b[0;34m\u001b[0m\u001b[0m\n\u001b[1;32m      5\u001b[0m \u001b[0;34m\u001b[0m\u001b[0m\n",
            "\u001b[0;31mTypeError\u001b[0m: __init__() missing 2 required positional arguments: 'x' and 'y'"
          ]
        }
      ]
    },
    {
      "cell_type": "markdown",
      "metadata": {
        "id": "4Jws7yOxARy9"
      },
      "source": [
        "# CLASS WITH A ROBUST CONSTRUCTOR"
      ]
    },
    {
      "cell_type": "code",
      "metadata": {
        "id": "C5Z8aKrsARy-"
      },
      "source": [
        "import math\n",
        "class bPoint:\n",
        "    def __init__(self,X=0,Y=0):\n",
        "        self._x = X\n",
        "        self._y = Y\n",
        "    \n",
        "    def __str__(self):\n",
        "        return '<' + str(self._x) + ',' + str(self._y) + '>'\n",
        "    def scale(self, factor):\n",
        "        self._x *= factor\n",
        "        self._y *= factor\n",
        "    def distance(self, other):\n",
        "        dx = self._x-other._x\n",
        "        dy = self._y-other._y\n",
        "        return math.sqrt(dx*dx*+dy*dy)\n",
        "    def __add__(self, other):\n",
        "        x = self._x+other._x\n",
        "        y= self._x+other._y\n",
        "        p = bPoint(x,y)\n",
        "        return p"
      ],
      "execution_count": null,
      "outputs": []
    },
    {
      "cell_type": "code",
      "metadata": {
        "id": "x9OMEgXKARzF",
        "outputId": "5e9d3a4b-a8f4-411b-a210-9780835bcf62"
      },
      "source": [
        "p1 = bPoint()\n",
        "p2 = bPoint(20,30)\n",
        "p2.scale(3)\n",
        "print(p1)\n",
        "print(p2)\n",
        "print(p1.distance(p2))\n",
        "p3 = p1.__add__(p2)\n",
        "print(p3)"
      ],
      "execution_count": null,
      "outputs": [
        {
          "output_type": "stream",
          "text": [
            "<0,0>\n",
            "<60,90>\n",
            "5400.0\n",
            "<60,90>\n"
          ],
          "name": "stdout"
        }
      ]
    },
    {
      "cell_type": "code",
      "metadata": {
        "id": "a997lKjeARzQ",
        "colab": {
          "base_uri": "https://localhost:8080/"
        },
        "outputId": "c3f26592-b1a0-4280-9ab5-891c3e6e0136"
      },
      "source": [
        "class Class:\n",
        "    __Counter = 0\n",
        "    def __init__(self, val = 1):\n",
        "        self.__First = val\n",
        "        Class.__Counter += 1\n",
        "obj1 = Class()\n",
        "obj2 = Class(2)\n",
        "obj3 = Class(4)\n",
        "\n",
        "print(obj1.__dict__)\n",
        "#print(obj1.__Counter)"
      ],
      "execution_count": null,
      "outputs": [
        {
          "output_type": "stream",
          "text": [
            "{'_Class__First': 1}\n"
          ],
          "name": "stdout"
        }
      ]
    },
    {
      "cell_type": "markdown",
      "metadata": {
        "collapsed": true,
        "id": "BceqenjtARzi"
      },
      "source": [
        "# INHERITANCE"
      ]
    },
    {
      "cell_type": "code",
      "metadata": {
        "id": "1jkaUj76ARzm"
      },
      "source": [
        "class Star:\n",
        "    def __init__(self, name, galaxy):\n",
        "        self.name=name\n",
        "        self.galaxy=galaxy"
      ],
      "execution_count": null,
      "outputs": []
    },
    {
      "cell_type": "code",
      "metadata": {
        "id": "3dsPvNe6ARz2",
        "outputId": "e717da79-2a39-4695-e4ba-0127a57cb481"
      },
      "source": [
        "sun = Star(\"Sun\", \"Milky Way\")\n",
        "print(sun)"
      ],
      "execution_count": null,
      "outputs": [
        {
          "output_type": "stream",
          "text": [
            "<__main__.Star object at 0x00000246F1A1C828>\n"
          ],
          "name": "stdout"
        }
      ]
    },
    {
      "cell_type": "markdown",
      "metadata": {
        "id": "MF4xuRpAAR0C"
      },
      "source": [
        "__str__() Method:\n",
        "When Python needs any class/object to be presented as a string (putting an object as an argument in the print() function invocation fits this condition) it tries to invoke a method named __str__() from the object and to use the string it returns. The default __str__() method returns the previous string – ugly and not very informative. You can change it just by defining your own method of the name"
      ]
    },
    {
      "cell_type": "code",
      "metadata": {
        "id": "UHuFW57DAR0H"
      },
      "source": [
        "class Star:\n",
        "    def __init__(self, name, galaxy):\n",
        "        self.name=name\n",
        "        self.galaxy=galaxy\n",
        "    def __str__(self):\n",
        "        return self.name + 'in' + self.galaxy"
      ],
      "execution_count": null,
      "outputs": []
    },
    {
      "cell_type": "markdown",
      "metadata": {
        "id": "pM_7HT9aAR0M"
      },
      "source": [
        "#### sun1 = Star(\"Sun\", \"Milky Way\")\n",
        "print(sun1)"
      ]
    },
    {
      "cell_type": "markdown",
      "metadata": {
        "id": "2tZr-KaCAR0P"
      },
      "source": [
        "Inheritance =  A way fo building more specialized class using sets of pre-defined rules and behaviours from parent class."
      ]
    },
    {
      "cell_type": "code",
      "metadata": {
        "collapsed": true,
        "id": "F6nEKirfAR0R"
      },
      "source": [
        "class Vehicle:\n",
        "    pass\n",
        "\n",
        "class LandVehicle(Vehicle):\n",
        "    pass\n",
        "\n",
        "class TrackedVehicle(LandVehicle):\n",
        "    pass"
      ],
      "execution_count": null,
      "outputs": []
    },
    {
      "cell_type": "markdown",
      "metadata": {
        "id": "ojOgc8xFAR0W"
      },
      "source": [
        "Checking the Relationship Between the class: \n",
        "issubclass(class1,class2):The function returns True if class1 is a subclass of class2, and False otherwise."
      ]
    },
    {
      "cell_type": "code",
      "metadata": {
        "id": "r-xgNAayAR0Y",
        "colab": {
          "base_uri": "https://localhost:8080/"
        },
        "outputId": "3197b435-d57a-47bc-f835-41f92c2f897c"
      },
      "source": [
        "print(issubclass(LandVehicle, Vehicle))"
      ],
      "execution_count": null,
      "outputs": [
        {
          "output_type": "stream",
          "text": [
            "True\n"
          ],
          "name": "stdout"
        }
      ]
    },
    {
      "cell_type": "markdown",
      "metadata": {
        "id": "fb9hXP2oAR0g"
      },
      "source": [
        "Checking the Object Class Relationship:\n",
        "--------------------------------------------\n",
        "isinstance(object, class): The functions returns True if the object is an instance of the class, or False otherwise."
      ]
    },
    {
      "cell_type": "code",
      "metadata": {
        "id": "_kDJARFGAR0i"
      },
      "source": [
        "vehicle = Vehicle()\n",
        "landvehicle = LandVehicle()\n",
        "trackedvehicle = TrackedVehicle()"
      ],
      "execution_count": null,
      "outputs": []
    },
    {
      "cell_type": "code",
      "metadata": {
        "id": "vOoCWtbUAR0q",
        "outputId": "168dadd7-d685-4a59-9f04-b9aa00052961"
      },
      "source": [
        "for ob in [vehicle, landvehicle, trackedvehicle]:\n",
        "    for cl in [Vehicle, LandVehicle, TrackedVehicle]:\n",
        "        print(isinstance(ob, cl), end='\\t')\n",
        "    print()"
      ],
      "execution_count": null,
      "outputs": [
        {
          "output_type": "stream",
          "text": [
            "True\tFalse\tFalse\t\n",
            "True\tTrue\tFalse\t\n",
            "True\tTrue\tTrue\t\n"
          ],
          "name": "stdout"
        }
      ]
    },
    {
      "cell_type": "markdown",
      "metadata": {
        "id": "6u9DMQvmAR00"
      },
      "source": [
        "is operator\n",
        "-----------\n",
        "-> The operator checks whether two variables (object1 and object2 here) refer to the same object.\n",
        "->  variables don’t store the objects themselves, but only the handles pointing to the internal Python memory.\n",
        "-> Assigning a value of an object variable to another variable doesn’t copy the object, but only its handle."
      ]
    },
    {
      "cell_type": "code",
      "metadata": {
        "id": "mvFW52YtAR02",
        "colab": {
          "base_uri": "https://localhost:8080/"
        },
        "outputId": "c5c55cfe-315f-491e-9cf2-357a44f2be50"
      },
      "source": [
        "class ThisClass:\n",
        "    def __init__(self,val):\n",
        "        self.val = val\n",
        "        \n",
        "ob1 = ThisClass(0)\n",
        "ob2 = ThisClass(2)\n",
        "ob3 = ob1\n",
        "if(id(ob3) == id(ob1)):\n",
        "  print(\"Pointing to same location\")\n",
        "ob3.val += 1\n",
        "\n",
        "if(id(ob3) == id(ob1)):\n",
        "  print(\"Pointing to same location\")\n",
        "\n",
        "print(ob1 is ob2)\n",
        "print(ob2 is ob3)\n",
        "print(ob3 is ob1)\n",
        "print(ob1.val, ob2.val, ob3.val)"
      ],
      "execution_count": null,
      "outputs": [
        {
          "output_type": "stream",
          "text": [
            "Pointing to same location\n",
            "Pointing to same location\n",
            "False\n",
            "False\n",
            "True\n",
            "1 2 1\n"
          ],
          "name": "stdout"
        }
      ]
    },
    {
      "cell_type": "code",
      "metadata": {
        "id": "qyKfAvVyAR08",
        "outputId": "bbdad50e-c123-4ab0-b15b-722ec1b423c4"
      },
      "source": [
        "str1 = \"Trident Academy of Technology\"\n",
        "str2 = \"Trident Academy of\"\n",
        "str2 += \" Technology\"\n",
        "\n",
        "print(str1 == str2)\n",
        "print(str1 is str2)"
      ],
      "execution_count": null,
      "outputs": [
        {
          "output_type": "stream",
          "text": [
            "True\n",
            "False\n"
          ],
          "name": "stdout"
        }
      ]
    },
    {
      "cell_type": "code",
      "metadata": {
        "id": "iRocjhWliWoj"
      },
      "source": [
        "class Complex:\n",
        "\n",
        "  def __init__(self,real,img)\n",
        "   self.r= real\n",
        "   self.i= img\n",
        "\n",
        " def __str__(self):\n",
        "   return str(self.r) + ' + ' + str(self.r) + 'i'\n",
        "\n",
        "  def "
      ],
      "execution_count": null,
      "outputs": []
    },
    {
      "cell_type": "code",
      "metadata": {
        "id": "P-__b2CGAR1C",
        "colab": {
          "base_uri": "https://localhost:8080/"
        },
        "outputId": "ad3cd0de-8c65-4372-b59f-f1f4c796daf9"
      },
      "source": [
        "class Super:\n",
        "    def __init__(self, name):\n",
        "        self.name = name\n",
        "    def __str__(self):\n",
        "        return \"My Name is \" + self.name + \".\"\n",
        "    \n",
        "class Sub(Super):\n",
        "    def __init__(self, name):\n",
        "        Super.__init__(self,name) # the __init__() in Sub Calls the __init__() in Super\n",
        "        \n",
        "object = Sub(\"Jhalak\")\n",
        "print(object) # No str method in class Sub, but still it is inheridated from the Super class"
      ],
      "execution_count": null,
      "outputs": [
        {
          "output_type": "stream",
          "text": [
            "My Name is Jhalak.\n"
          ],
          "name": "stdout"
        }
      ]
    },
    {
      "cell_type": "markdown",
      "metadata": {
        "id": "WBWWPf1HAR1M"
      },
      "source": [
        "super() Function\n",
        "-----------------\n",
        "The super() function creates a context in which you don’t have (moreover, you mustn’t) pass the self argument to the method being invoked – this is why it’s possible to activate the superclass constructor using only one argument.\n",
        "\n",
        "you can use this mechanism not only to invoke the superclass constructor, but also to get access to any of the resources available inside the superclass"
      ]
    },
    {
      "cell_type": "code",
      "metadata": {
        "id": "OrpGrASZAR1P",
        "colab": {
          "base_uri": "https://localhost:8080/"
        },
        "outputId": "53f8faaa-f9f2-4c87-d8fd-a502fd3cdbd4"
      },
      "source": [
        "class Super:\n",
        "    def __init__(self, name):\n",
        "        self.name = name\n",
        "    def __str__(self):\n",
        "        return \"My Name is \" + self.name + \".\"\n",
        "\n",
        "class Sub(Super):\n",
        "    def __init__(self, name):\n",
        "        super().__init__(name)\n",
        "        \n",
        "\n",
        "object = Sub(\"Jhalak\")\n",
        "print(object)"
      ],
      "execution_count": null,
      "outputs": [
        {
          "output_type": "stream",
          "text": [
            "My Name is Jhalak.\n"
          ],
          "name": "stdout"
        }
      ]
    },
    {
      "cell_type": "markdown",
      "metadata": {
        "id": "KpGq_HLIAR1X"
      },
      "source": [
        "INHERIDATING THE POINT CLASS"
      ]
    },
    {
      "cell_type": "code",
      "metadata": {
        "id": "AIU9BpOZAR1Z",
        "colab": {
          "base_uri": "https://localhost:8080/"
        },
        "outputId": "45ba41db-8ddf-4ab4-dade-c7b95278577f"
      },
      "source": [
        "class Line(Point):\n",
        "    def __init__(self,x1,y1,x2,y2):\n",
        "        self.P1 = Point(x1,x2)\n",
        "        self.P2=Point(x2,y2)\n",
        "    def __str__(self):\n",
        "        return str(self.P1) + '----------'+str(self.P2)\n",
        "    def length(self):\n",
        "        return self.P1.Dist(self.P2)\n",
        "L1=Line(0,0,1,1)\n",
        "#print(L1.P2.x)\n",
        "print(L1.length())\n",
        "print(L1.__dict__)\n",
        "print(L1)\n"
      ],
      "execution_count": null,
      "outputs": [
        {
          "output_type": "stream",
          "text": [
            "1.0\n",
            "{'P1': <__main__.Point object at 0x7f4087b3a5c0>, 'P2': <__main__.Point object at 0x7f4087b301d0>}\n",
            "<__main__.Point object at 0x7f4087b3a5c0>----------<__main__.Point object at 0x7f4087b301d0>\n"
          ],
          "name": "stdout"
        }
      ]
    },
    {
      "cell_type": "code",
      "metadata": {
        "id": "cMCRPN56AR1h"
      },
      "source": [
        "class Triangle:\n",
        "    def __init__(self,P1 = [],P2 = [], P3 = []):\n",
        "        self.P1 = Point(P1[0],P1[1])\n",
        "        self.P2 = Point(P2[0],P2[1])\n",
        "        self.P3 = Point(P3[0],P3[1])"
      ],
      "execution_count": null,
      "outputs": []
    },
    {
      "cell_type": "markdown",
      "metadata": {
        "id": "BRKA1UowAR1o"
      },
      "source": [
        "Understanding of Python Superclass"
      ]
    },
    {
      "cell_type": "code",
      "metadata": {
        "id": "rM7ktYXzAR1r",
        "outputId": "970436e2-ebfb-492e-8ed9-6f85b85762b4"
      },
      "source": [
        "class Super:\n",
        "    SupVar = 1\n",
        "\n",
        "class Sub(Super):\n",
        "    SubVar = 2\n",
        "\n",
        "object = Sub()\n",
        "print(object.SupVar)\n",
        "print(object.SubVar)\n",
        "print(object.__dict__)\n"
      ],
      "execution_count": null,
      "outputs": [
        {
          "output_type": "stream",
          "text": [
            "1\n",
            "2\n",
            "{}\n"
          ],
          "name": "stdout"
        }
      ]
    },
    {
      "cell_type": "markdown",
      "metadata": {
        "collapsed": true,
        "id": "tklClR1GAR1w"
      },
      "source": [
        "# UNDERSTANDING INHERITANCE IN DETAIL"
      ]
    },
    {
      "cell_type": "markdown",
      "metadata": {
        "id": "QTa44ZbSAR10"
      },
      "source": [
        "Defition of Parent Class"
      ]
    },
    {
      "cell_type": "code",
      "metadata": {
        "id": "GgE6W8yjAR13"
      },
      "source": [
        "class Parents:\n",
        "    ParentAttr = 100\n",
        "    \n",
        "    def __init__(self,attr):\n",
        "        self.ParentAttr = attr\n",
        "        print(\"Calling Parent Constructor\")\n",
        "    \n",
        "    def ParentMethod(self):\n",
        "        print('Calling Parent Method')\n",
        "        \n",
        "    def setAttr(self, attr):\n",
        "        Parents.parentAttr = attr\n",
        "        \n",
        "    def getAttr(self):\n",
        "        print(\"The Parent Attribut is::\" , self.ParentAttr)\n",
        "    "
      ],
      "execution_count": null,
      "outputs": []
    },
    {
      "cell_type": "markdown",
      "metadata": {
        "id": "0tlPF4QvAR1-"
      },
      "source": [
        "Creating Object for Parent Class"
      ]
    },
    {
      "cell_type": "code",
      "metadata": {
        "id": "ymjgSnPKAR2B",
        "outputId": "c21f6e79-1b97-46af-f564-44a21fb88cd3",
        "colab": {
          "base_uri": "https://localhost:8080/"
        }
      },
      "source": [
        "p = Parents(200)\n",
        "print(p.ParentMethod())\n",
        "p.setAttr(300)\n",
        "print(p.ParentAttr)"
      ],
      "execution_count": null,
      "outputs": [
        {
          "output_type": "stream",
          "name": "stdout",
          "text": [
            "Calling Parent Constructor\n",
            "Calling Parent Method\n",
            "None\n",
            "200\n"
          ]
        }
      ]
    },
    {
      "cell_type": "markdown",
      "metadata": {
        "id": "A-JBcVOIAR2O"
      },
      "source": [
        "Inheridating the Python Class to a Child "
      ]
    },
    {
      "cell_type": "code",
      "metadata": {
        "id": "Zh809PtQAR2P"
      },
      "source": [
        "class Child(Parents):\n",
        "    def __init__(self,attr):\n",
        "        self.attr = attr\n",
        "        print(\"Calling Child Constructor\")"
      ],
      "execution_count": null,
      "outputs": []
    },
    {
      "cell_type": "markdown",
      "metadata": {
        "id": "DDcTr439AR2a"
      },
      "source": [
        "Creating Object for the Child Class"
      ]
    },
    {
      "cell_type": "code",
      "metadata": {
        "id": "pw10brrIAR2d",
        "outputId": "352f7bb7-c1a2-4217-91e1-93d190af9bd6",
        "colab": {
          "base_uri": "https://localhost:8080/"
        }
      },
      "source": [
        "c = Child(340)\n",
        "print(c.attr)\n",
        "print(c.__dir__)"
      ],
      "execution_count": null,
      "outputs": [
        {
          "output_type": "stream",
          "name": "stdout",
          "text": [
            "Calling Child Constructor\n",
            "340\n",
            "<built-in method __dir__ of Child object at 0x7f1aa2660dd0>\n"
          ]
        }
      ]
    }
  ]
}