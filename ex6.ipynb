{
 "cells": [
  {
   "cell_type": "code",
   "execution_count": null,
   "metadata": {},
   "outputs": [],
   "source": [
    "class Complex:\n",
    "    def __init__(self, realpart, imagpart):\n",
    "        self.r = realpart\n",
    "        self.i = imagpart\n",
    "    def __add__(self, other):\n",
    "        r = self.r + other.r\n",
    "        i = self.i + other.i\n",
    "        return Complex(r, i)\n",
    "    def __sub__(self, other):\n",
    "        r = self.r - other.r\n",
    "        i = self.i - other.i\n",
    "        return Complex(r, i)\n",
    "    def __mul__(self, other):\n",
    "        r = self.r * other.r - self.i * other.i\n",
    "        i = self.r * other.i + self.i * other.r\n",
    "        return Complex(r, i)\n",
    "    def __str__(self):\n",
    "        return str(self.r) + \"+\" + str(self.i) + \"i\""
   ]
  }
 ],
 "metadata": {
  "interpreter": {
   "hash": "31f2aee4e71d21fbe5cf8b01ff0e069b9275f58929596ceb00d14d90e3e16cd6"
  },
  "kernelspec": {
   "display_name": "Python 3.8.9 64-bit",
   "name": "python3"
  },
  "language_info": {
   "codemirror_mode": {
    "name": "ipython",
    "version": 3
   },
   "file_extension": ".py",
   "mimetype": "text/x-python",
   "name": "python",
   "nbconvert_exporter": "python",
   "pygments_lexer": "ipython3",
   "version": "3.8.9"
  },
  "orig_nbformat": 4
 },
 "nbformat": 4,
 "nbformat_minor": 2
}
