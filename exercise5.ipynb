{
 "cells": [
  {
   "cell_type": "code",
   "execution_count": 6,
   "metadata": {},
   "outputs": [
    {
     "name": "stdout",
     "output_type": "stream",
     "text": [
      "The list declared is:  [1, 2, 3]\n",
      "The item entered is:  4\n",
      "The list after pushing new element is:  [1, 2, 3, 4]\n",
      "The item entered is:  2\n",
      "The item popped is:  [1, 2, 4]\n"
     ]
    }
   ],
   "source": [
    "# Implement stack using a python list. Design push, pop, and peep function.\n",
    "def push(stack, item):\n",
    "    stack.append(item)\n",
    "    return stack\n",
    "def pop(stack,item):\n",
    "    if len(stack) == 0:\n",
    "        return \"Stack is empty\"\n",
    "    else:\n",
    "        stack.pop(item)\n",
    "        return stack\n",
    "def peep(stack):\n",
    "    if len(stack) == 0:\n",
    "        return \"Stack is empty\"\n",
    "    else:\n",
    "        return stack[-1]\n",
    "\n",
    "list = [1,2,3]\n",
    "condition = True\n",
    "print(\"The list declared is: \", list)\n",
    "while condition == True:\n",
    "    choice = int(input(\"Enter 1 to push, 2 to pop, 3 to peek: \"))\n",
    "    if choice == 1:\n",
    "        item = int(input(\"Enter the item to be pushed: \"))\n",
    "        print(\"The item entered is: \", item)\n",
    "        print(\"The list after pushing new element is: \",push(list, item))\n",
    "        cond = input(\"Do you want to continue? (y/n): \")\n",
    "        if cond == 'y':\n",
    "            condition = True\n",
    "        elif cond == 'n':\n",
    "            condition = False\n",
    "        else:\n",
    "            print(\"Invalid input entered\")\n",
    "    elif choice == 2:\n",
    "        item = int(input(\"Enter the position from where the item needs to be popped: \"))\n",
    "        print(\"The item entered is: \", item)\n",
    "        print(\"The item popped is: \", pop(list,item))\n",
    "        cond = input(\"Do you want to continue? (y/n): \")\n",
    "        if cond == 'y':\n",
    "            condition = True\n",
    "        elif cond == 'n':\n",
    "            condition = False\n",
    "        else:\n",
    "            print(\"Invalid input entered\")\n",
    "    elif choice == 3:\n",
    "        print(\"The item peeked is: \", peep(list))\n",
    "        cond = input(\"Do you want to continue? (y/n): \")\n",
    "        if cond == 'y':\n",
    "            condition = True\n",
    "        elif cond == 'n':\n",
    "            condition = False\n",
    "        else:\n",
    "            print(\"Invalid input entered\")\n",
    "    else:\n",
    "        print(\"Invalid choice\")"
   ]
  },
  {
   "cell_type": "code",
   "execution_count": 3,
   "metadata": {},
   "outputs": [
    {
     "name": "stdout",
     "output_type": "stream",
     "text": [
      "\n",
      " Main Menu\n",
      "1. Insert an element\n",
      "2. Access an element\n",
      "3. Delete an element\n",
      "4. Exit\n",
      "{'ENo': '1929225', 'EName': 'Mithilesh', 'Sal': '19000', 'Dept_ID': '3', 'Mngr': 'Rohit'}\n",
      "\n",
      " Main Menu\n",
      "1. Insert an element\n",
      "2. Access an element\n",
      "3. Delete an element\n",
      "4. Exit\n"
     ]
    }
   ],
   "source": [
    "#q1\n",
    "dict1 = {0: {\"ENo\": 110, \"EName\": 'Mithilesh', \"Sal\": 1000, \"Dept_ID\": 202, \"Mngr\": \"Rohit\"}}\n",
    "\n",
    "def insert_dict(index1, ENo, EName, Sal, Dept_ID, Mngr):\n",
    "    dict1[index1] = {}\n",
    "    dict1[index1][\"ENo\"] = ENo\n",
    "    dict1[index1][\"EName\"] = EName\n",
    "    dict1[index1][\"Sal\"] = Sal\n",
    "    dict1[index1][\"Dept_ID\"] = Dept_ID\n",
    "    dict1[index1][\"Mngr\"] = Mngr\n",
    "    \n",
    "    print(dict1[index1])\n",
    "    \n",
    "def access_dict(index1, key1):\n",
    "    print(dict1[index1][key1])\n",
    "    print(\"Items in dictionary: \", dict1)\n",
    "    \n",
    "def del_dict(index1, key1):\n",
    "    del dict1[index1][key1]\n",
    "    print(dict1[index1])\n",
    "\n",
    "while True:\n",
    "    print(\"\\n Main Menu\")\n",
    "    print(\"1. Insert an element\")\n",
    "    print(\"2. Access an element\")\n",
    "    print(\"3. Delete an element\")\n",
    "    print(\"4. Exit\")\n",
    "    choice1 = int(input(\"Enter your choice\"))\n",
    "    \n",
    "    if choice1 == 1:\n",
    "        index1 = input(\"Enter your index: \")\n",
    "        ENo = input(\"Enter your ENo: \")\n",
    "        EName = input(\"Enter your EName: \")\n",
    "        Sal = input(\"Enter your Sal: \")\n",
    "        Dept_ID = input(\"Enter your Dept_ID: \")\n",
    "        Mngr = input(\"Enter your Mngr: \")\n",
    "        \n",
    "        insert_dict(index1, ENo, EName, Sal, Dept_ID, Mngr)\n",
    "    \n",
    "    elif choice1 == 2:\n",
    "        index1 = input(\"Enter your index: \")\n",
    "        key1 = input(\"Enter the key: \")\n",
    "        access_dict(index1, key1)\n",
    "        \n",
    "    elif choice1 == 3:\n",
    "        index1 = input(\"Enter index for deletion: \")\n",
    "        key1 = input(\"Enter the key for deletion: \")\n",
    "        del_dict(index1, key1)\n",
    "        \n",
    "    elif choice1 == 4:\n",
    "        break\n",
    "    \n",
    "    else:\n",
    "        print(\"Incorrect choice. Try again :)\")"
   ]
  },
  {
   "cell_type": "code",
   "execution_count": 1,
   "metadata": {},
   "outputs": [
    {
     "name": "stdout",
     "output_type": "stream",
     "text": [
      "Initial Queue is: [10, 20, 11, 100]\n",
      "10\n",
      "20\n",
      "11\n",
      "After Removing elements: [100]\n"
     ]
    }
   ],
   "source": [
    "# implementing Queue using List :\n",
    "#q3\n",
    "q=[]\n",
    "q.append(10)\n",
    "q.append(20)\n",
    "q.append(11)\n",
    "q.append(100)\n",
    "print(\"Initial Queue is:\",q)\n",
    "print(q.pop(0))\n",
    "print(q.pop(0))\n",
    "print(q.pop(0))\n",
    "print(\"After Removing elements:\",q)"
   ]
  },
  {
   "cell_type": "code",
   "execution_count": 4,
   "metadata": {},
   "outputs": [
    {
     "name": "stdout",
     "output_type": "stream",
     "text": [
      "Positive SLICING\n",
      "slicing in + ::: UBA\n",
      "slicing in + ::: SHWAR\n",
      "slicing in + ::: BANE\n",
      "Negative SLICING\n",
      "slicing in - SHWAR\n",
      "slicing in - UBAN\n",
      "slicing in - ANE\n"
     ]
    }
   ],
   "source": [
    "#q5\n",
    "stri=\"BHUBANESHWAR\"\n",
    "print(\"Positive SLICING\")\n",
    "print(\"slicing in + :::\",stri[2:5])\n",
    "print(\"slicing in + :::\",stri[7:])\n",
    "print(\"slicing in + :::\",stri[3:7])\n",
    "print(\"Negative SLICING\")\n",
    "print(\"slicing in -\",stri[-5:])\n",
    "print(\"slicing in -\",stri[-10:-6])\n",
    "print(\"slicing in -\",stri[-8:-5])"
   ]
  },
  {
   "cell_type": "code",
   "execution_count": 5,
   "metadata": {},
   "outputs": [
    {
     "name": "stdout",
     "output_type": "stream",
     "text": [
      "['1', '2', '3', '4']\n",
      "4\n"
     ]
    }
   ],
   "source": [
    "#q4\n",
    "def evaluate(expression):\n",
    "    stack = []\n",
    "    for char in expression:\n",
    "        if char in ['+', '-', '*', ' ']:\n",
    "            continue\n",
    "        else:\n",
    "            stack.append(char)\n",
    "    print(stack)\n",
    "    for char in expression:\n",
    "        if char in ['+', '-', '*', ' ']:\n",
    "            if char == '+':\n",
    "                a = stack.pop()\n",
    "                b = stack.pop()\n",
    "                stack.append(int(a) + int(b))\n",
    "            elif char == '-':\n",
    "                a = stack.pop()\n",
    "                b = stack.pop()\n",
    "                stack.append(int(a) - int(b))\n",
    "            elif char == '*':\n",
    "                a = stack.pop()\n",
    "                b = stack.pop()\n",
    "                stack.append(int(a) * int(b))\n",
    "            else:\n",
    "                continue\n",
    "        else:\n",
    "            stack.append(char)\n",
    "    return stack.pop()\n",
    "\n",
    "Expression = input(\"Enter the postfix expression: \")\n",
    "result = evaluate(Expression)\n",
    "print(result)"
   ]
  }
 ],
 "metadata": {
  "interpreter": {
   "hash": "31f2aee4e71d21fbe5cf8b01ff0e069b9275f58929596ceb00d14d90e3e16cd6"
  },
  "kernelspec": {
   "display_name": "Python 3.8.9 64-bit",
   "name": "python3"
  },
  "language_info": {
   "codemirror_mode": {
    "name": "ipython",
    "version": 3
   },
   "file_extension": ".py",
   "mimetype": "text/x-python",
   "name": "python",
   "nbconvert_exporter": "python",
   "pygments_lexer": "ipython3",
   "version": "3.8.9"
  },
  "orig_nbformat": 4
 },
 "nbformat": 4,
 "nbformat_minor": 2
}
