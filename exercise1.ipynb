{
 "cells": [
  {
   "cell_type": "code",
   "execution_count": 3,
   "metadata": {},
   "outputs": [
    {
     "name": "stdout",
     "output_type": "stream",
     "text": [
      "Addition of 6 & 3 = 9\n",
      "multiplication of 6 & 3 = 18\n",
      "Subtract is of 6 & 3 = 3\n",
      "Division of 6 & 3 = 2.0\n",
      "Floor Division of 6 & 3 = 3\n",
      "Exponential of 6 & 3 = 216\n"
     ]
    }
   ],
   "source": [
    "a1=int(input(\"Enter a number\"))\n",
    "a2=int(input(\"Enter another number\"))\n",
    "a3=a1+a2\n",
    "a4=a1*a2\n",
    "a5=a1-a2\n",
    "a6=a1/a2\n",
    "a7=a1//2\n",
    "a8=a1 ** a2\n",
    "print( \"Addition of\",a1,\"&\",a2,\"=\",a3)\n",
    "print( \"multiplication of\",a1,\"&\",a2,\"=\",a4)\n",
    "print( \"Subtract is of\",a1,\"&\",a2,\"=\",a5)\n",
    "print( \"Division of\",a1,\"&\",a2,\"=\",a6)\n",
    "print( \"Floor Division of\",a1,\"&\",a2,\"=\",a7)\n",
    "print( \"Exponential of\",a1,\"&\",a2,\"=\",a8)\n"
   ]
  },
  {
   "cell_type": "code",
   "execution_count": 6,
   "metadata": {},
   "outputs": [
    {
     "name": "stdout",
     "output_type": "stream",
     "text": [
      "Name: Mithilesh\n",
      "Date of Birth: 04/12/2000\n",
      "Place of birth: bbsr\n",
      "Language: hindi\n",
      "Preferred Role: SDDE\n",
      "Qualifications: BTECH\n",
      "Experience: 1yrs\n",
      "Skills: READING BOOKS\n",
      "Hoobies: BADMINTON\n",
      "Address: 604,Nothview Appartment\n",
      "Contact: 9765321123\n"
     ]
    }
   ],
   "source": [
    "## Print your Biodata using python\n",
    "name=input(\"Name:\")\n",
    "dob=input(\"DOB:\")\n",
    "place=input(\"Place of Birth:\")\n",
    "language=input(\"Language:\")\n",
    "rollpreff=input(\"Role preferred:\")\n",
    "qualification=input(\"Qualification:\")\n",
    "experience=input(\"Experience:\")\n",
    "skills=input(\"Skills:\")\n",
    "hobbies=input(\"Hobbies:\")\n",
    "address=input(\"Address:\")\n",
    "contact=input(\"Contact:\")\n",
    "print(\"Name:\",name)\n",
    "print(\"Date of Birth:\",dob)\n",
    "print(\"Place of birth:\",place)\n",
    "print(\"Language:\",language)\n",
    "print(\"Preferred Role:\",rollpreff)\n",
    "print(\"Qualifications:\",qualification)\n",
    "print(\"Experience:\",experience)\n",
    "print(\"Skills:\",skills)\n",
    "print(\"Hoobies:\",hobbies)\n",
    "print(\"Address:\",address)\n",
    "print(\"Contact:\",contact)"
   ]
  },
  {
   "cell_type": "code",
   "execution_count": 1,
   "metadata": {},
   "outputs": [
    {
     "name": "stdout",
     "output_type": "stream",
     "text": [
      "xxxxxx\n",
      " xxxxx\n",
      "xxxxxx\n",
      "  xxxxx\n",
      "***\n",
      "  ***"
     ]
    }
   ],
   "source": [
    "print(\"xxxxxx\", end=\"\\n xxxxx\")\n",
    "print(\"\\nxxxxxx\", end=\"\\n  xxxxx\")\n",
    "print(\"\\n***\", end=\"\\n  ***\")"
   ]
  },
  {
   "cell_type": "code",
   "execution_count": 2,
   "metadata": {},
   "outputs": [
    {
     "name": "stdout",
     "output_type": "stream",
     "text": [
      "xxxxxx\n",
      " xxxxx\n",
      "xxxxxx\n",
      "  xxxxx\n",
      "******\n",
      "  ****\n"
     ]
    }
   ],
   "source": [
    "\n",
    "print(\"xxxxxx\",\"xxxxx\",sep='\\n ',end=\"\\n\")\n",
    "print(\"xxxxxx\",\"xxxxx\",sep='\\n  ',end=\"\\n\")\n",
    "print(\"******\",\"****\",sep='\\n  ',end=\"\\n\")"
   ]
  }
 ],
 "metadata": {
  "interpreter": {
   "hash": "31f2aee4e71d21fbe5cf8b01ff0e069b9275f58929596ceb00d14d90e3e16cd6"
  },
  "kernelspec": {
   "display_name": "Python 3.8.9 64-bit",
   "name": "python3"
  },
  "language_info": {
   "codemirror_mode": {
    "name": "ipython",
    "version": 3
   },
   "file_extension": ".py",
   "mimetype": "text/x-python",
   "name": "python",
   "nbconvert_exporter": "python",
   "pygments_lexer": "ipython3",
   "version": "3.8.9"
  },
  "orig_nbformat": 4
 },
 "nbformat": 4,
 "nbformat_minor": 2
}
